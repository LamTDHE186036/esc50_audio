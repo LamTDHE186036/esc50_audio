{
 "cells": [
  {
   "cell_type": "code",
   "execution_count": 5,
   "id": "e9dfee16",
   "metadata": {},
   "outputs": [],
   "source": [
    "import torch\n",
    "import torch.nn as nn\n",
    "import numpy as np\n",
    "import pandas as pd\n",
    "from torchvision import models, transforms\n",
    "from PIL import Image\n",
    "import gradio as gr\n",
    "import librosa\n",
    "\n",
    "device = torch.device(\"cuda\" if torch.cuda.is_available() else \"cpu\")\n",
    "\n",
    "au_csv = pd.read_csv(r\"D:\\code\\1SU25-DPL\\PRJ-audio\\archive\\esc50.csv\")\n",
    "idx2label = dict(zip(au_csv['target'], au_csv['category']))\n",
    "\n",
    "model = models.resnet18()  \n",
    "model.fc = nn.Linear(model.fc.in_features, len(idx2label))\n",
    "model.load_state_dict(torch.load(\"esc50_resnet18.pth\", map_location=device))\n",
    "model.eval()\n",
    "model = model.to(device)\n",
    "\n",
    "tfms = transforms.Compose([\n",
    "    transforms.Resize((224, 224)),\n",
    "    transforms.ToTensor(),\n",
    "    transforms.Normalize(mean=[0.5]*3, std=[0.5]*3)\n",
    "])\n",
    "\n",
    "def extract_mel_rgb(path, n_mels=128):\n",
    "    y, sr = librosa.load(path, sr=44100)\n",
    "    mel = librosa.feature.melspectrogram(y=y, sr=sr, n_mels=n_mels)\n",
    "    mel_db = librosa.power_to_db(mel, ref=np.max)\n",
    "\n",
    "    mel_db = (mel_db - mel_db.min()) / (mel_db.max() - mel_db.min()) * 255\n",
    "    mel_db = np.uint8(mel_db)\n",
    "    mel_db = np.stack([mel_db]*3, axis=-1)\n",
    "    return mel_db\n",
    "\n",
    "def predict_audio(path, model):\n",
    "    mel_img = extract_mel_rgb(path)\n",
    "    mel_img = transforms.ToPILImage()(mel_img)\n",
    "    mel_img = tfms(mel_img).unsqueeze(0).to(device)\n",
    "\n",
    "    model.eval()\n",
    "    with torch.no_grad():\n",
    "        logits = model(mel_img)\n",
    "        pred_class = logits.argmax(1).item()\n",
    "    return pred_class\n",
    "\n",
    "def predict_gradio(file):\n",
    "    try:\n",
    "        pred_class = predict_audio(file, model)\n",
    "        label_name = idx2label[pred_class]\n",
    "        return f\"The above sound belongs to the class: {pred_class} ({label_name})\"\n",
    "    except Exception as e:\n",
    "        print(f\"Error: {e}\")\n",
    "        return f\"Error: {e}\"\n",
    "\n"
   ]
  },
  {
   "cell_type": "code",
   "execution_count": 6,
   "id": "4ede3cbc",
   "metadata": {},
   "outputs": [
    {
     "name": "stdout",
     "output_type": "stream",
     "text": [
      "* Running on local URL:  http://127.0.0.1:7861\n",
      "* To create a public link, set `share=True` in `launch()`.\n"
     ]
    },
    {
     "data": {
      "text/html": [
       "<div><iframe src=\"http://127.0.0.1:7861/\" width=\"100%\" height=\"500\" allow=\"autoplay; camera; microphone; clipboard-read; clipboard-write;\" frameborder=\"0\" allowfullscreen></iframe></div>"
      ],
      "text/plain": [
       "<IPython.core.display.HTML object>"
      ]
     },
     "metadata": {},
     "output_type": "display_data"
    }
   ],
   "source": [
    "demo = gr.Interface(\n",
    "    fn=predict_gradio,\n",
    "    inputs=gr.Audio(type=\"filepath\"),\n",
    "    outputs=\"text\",\n",
    "    title=\"ESC‑50 Audio Classifier\",\n",
    "    description=\"Upload a .wav file to predict the audio category.\"\n",
    "\n",
    ")\n",
    "\n",
    "if __name__ == \"__main__\":\n",
    "    demo.launch()\n"
   ]
  },
  {
   "cell_type": "code",
   "execution_count": null,
   "id": "38d137b6",
   "metadata": {},
   "outputs": [],
   "source": []
  },
  {
   "cell_type": "code",
   "execution_count": null,
   "id": "e06b190f",
   "metadata": {},
   "outputs": [],
   "source": []
  }
 ],
 "metadata": {
  "kernelspec": {
   "display_name": "Python 3",
   "language": "python",
   "name": "python3"
  },
  "language_info": {
   "codemirror_mode": {
    "name": "ipython",
    "version": 3
   },
   "file_extension": ".py",
   "mimetype": "text/x-python",
   "name": "python",
   "nbconvert_exporter": "python",
   "pygments_lexer": "ipython3",
   "version": "3.12.4"
  }
 },
 "nbformat": 4,
 "nbformat_minor": 5
}
