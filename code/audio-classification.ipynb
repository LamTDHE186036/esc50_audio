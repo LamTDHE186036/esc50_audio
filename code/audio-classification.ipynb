{
 "cells": [
  {
   "cell_type": "markdown",
   "metadata": {},
   "source": [
    "# Load and View Data"
   ]
  },
  {
   "cell_type": "code",
   "execution_count": 2,
   "metadata": {
    "_cell_guid": "b1076dfc-b9ad-4769-8c92-a6c4dae69d19",
    "_uuid": "8f2839f25d086af736a60e9eeb907d3b93b6e0e5",
    "execution": {
     "iopub.execute_input": "2025-07-09T14:39:42.440958Z",
     "iopub.status.busy": "2025-07-09T14:39:42.440695Z",
     "iopub.status.idle": "2025-07-09T14:39:44.124941Z",
     "shell.execute_reply": "2025-07-09T14:39:44.124142Z",
     "shell.execute_reply.started": "2025-07-09T14:39:42.440939Z"
    },
    "trusted": true
   },
   "outputs": [],
   "source": [
    "import pandas as pd \n",
    "import os\n",
    "import matplotlib.pyplot as plt "
   ]
  },
  {
   "cell_type": "code",
   "execution_count": 3,
   "metadata": {
    "execution": {
     "iopub.execute_input": "2025-07-09T14:41:42.702606Z",
     "iopub.status.busy": "2025-07-09T14:41:42.701894Z",
     "iopub.status.idle": "2025-07-09T14:41:42.711706Z",
     "shell.execute_reply": "2025-07-09T14:41:42.711104Z",
     "shell.execute_reply.started": "2025-07-09T14:41:42.702579Z"
    },
    "trusted": true
   },
   "outputs": [
    {
     "data": {
      "text/plain": [
       "['audio', 'audio_labels.csv', 'esc50.csv', 'esc50_labels.csv']"
      ]
     },
     "execution_count": 3,
     "metadata": {},
     "output_type": "execute_result"
    }
   ],
   "source": [
    "path = 'D:/code/1SU25-DPL/PRJ-audio/archive'\n",
    "path_audio = path+'audio/'\n",
    "os.listdir(path)"
   ]
  },
  {
   "cell_type": "code",
   "execution_count": 6,
   "metadata": {
    "execution": {
     "iopub.execute_input": "2025-07-09T14:41:47.334046Z",
     "iopub.status.busy": "2025-07-09T14:41:47.333370Z",
     "iopub.status.idle": "2025-07-09T14:41:47.353336Z",
     "shell.execute_reply": "2025-07-09T14:41:47.352651Z",
     "shell.execute_reply.started": "2025-07-09T14:41:47.334021Z"
    },
    "trusted": true
   },
   "outputs": [],
   "source": [
    "au_csv = pd.read_csv(r'D:\\code\\1SU25-DPL\\PRJ-audio\\archive\\esc50.csv')"
   ]
  },
  {
   "cell_type": "code",
   "execution_count": 7,
   "metadata": {
    "execution": {
     "iopub.execute_input": "2025-07-09T14:41:53.118717Z",
     "iopub.status.busy": "2025-07-09T14:41:53.118435Z",
     "iopub.status.idle": "2025-07-09T14:41:53.140440Z",
     "shell.execute_reply": "2025-07-09T14:41:53.139763Z",
     "shell.execute_reply.started": "2025-07-09T14:41:53.118693Z"
    },
    "trusted": true
   },
   "outputs": [
    {
     "data": {
      "text/html": [
       "<div>\n",
       "<style scoped>\n",
       "    .dataframe tbody tr th:only-of-type {\n",
       "        vertical-align: middle;\n",
       "    }\n",
       "\n",
       "    .dataframe tbody tr th {\n",
       "        vertical-align: top;\n",
       "    }\n",
       "\n",
       "    .dataframe thead th {\n",
       "        text-align: right;\n",
       "    }\n",
       "</style>\n",
       "<table border=\"1\" class=\"dataframe\">\n",
       "  <thead>\n",
       "    <tr style=\"text-align: right;\">\n",
       "      <th></th>\n",
       "      <th>filename</th>\n",
       "      <th>fold</th>\n",
       "      <th>target</th>\n",
       "      <th>category</th>\n",
       "      <th>esc10</th>\n",
       "      <th>src_file</th>\n",
       "      <th>take</th>\n",
       "    </tr>\n",
       "  </thead>\n",
       "  <tbody>\n",
       "    <tr>\n",
       "      <th>0</th>\n",
       "      <td>1-100032-A-0.wav</td>\n",
       "      <td>1</td>\n",
       "      <td>0</td>\n",
       "      <td>dog</td>\n",
       "      <td>True</td>\n",
       "      <td>100032</td>\n",
       "      <td>A</td>\n",
       "    </tr>\n",
       "    <tr>\n",
       "      <th>1</th>\n",
       "      <td>1-100038-A-14.wav</td>\n",
       "      <td>1</td>\n",
       "      <td>14</td>\n",
       "      <td>chirping_birds</td>\n",
       "      <td>False</td>\n",
       "      <td>100038</td>\n",
       "      <td>A</td>\n",
       "    </tr>\n",
       "    <tr>\n",
       "      <th>2</th>\n",
       "      <td>1-100210-A-36.wav</td>\n",
       "      <td>1</td>\n",
       "      <td>36</td>\n",
       "      <td>vacuum_cleaner</td>\n",
       "      <td>False</td>\n",
       "      <td>100210</td>\n",
       "      <td>A</td>\n",
       "    </tr>\n",
       "    <tr>\n",
       "      <th>3</th>\n",
       "      <td>1-100210-B-36.wav</td>\n",
       "      <td>1</td>\n",
       "      <td>36</td>\n",
       "      <td>vacuum_cleaner</td>\n",
       "      <td>False</td>\n",
       "      <td>100210</td>\n",
       "      <td>B</td>\n",
       "    </tr>\n",
       "    <tr>\n",
       "      <th>4</th>\n",
       "      <td>1-101296-A-19.wav</td>\n",
       "      <td>1</td>\n",
       "      <td>19</td>\n",
       "      <td>thunderstorm</td>\n",
       "      <td>False</td>\n",
       "      <td>101296</td>\n",
       "      <td>A</td>\n",
       "    </tr>\n",
       "  </tbody>\n",
       "</table>\n",
       "</div>"
      ],
      "text/plain": [
       "            filename  fold  target        category  esc10  src_file take\n",
       "0   1-100032-A-0.wav     1       0             dog   True    100032    A\n",
       "1  1-100038-A-14.wav     1      14  chirping_birds  False    100038    A\n",
       "2  1-100210-A-36.wav     1      36  vacuum_cleaner  False    100210    A\n",
       "3  1-100210-B-36.wav     1      36  vacuum_cleaner  False    100210    B\n",
       "4  1-101296-A-19.wav     1      19    thunderstorm  False    101296    A"
      ]
     },
     "execution_count": 7,
     "metadata": {},
     "output_type": "execute_result"
    }
   ],
   "source": [
    "au_csv.head()"
   ]
  },
  {
   "cell_type": "code",
   "execution_count": 8,
   "metadata": {
    "execution": {
     "iopub.execute_input": "2025-07-09T14:41:54.038261Z",
     "iopub.status.busy": "2025-07-09T14:41:54.037991Z",
     "iopub.status.idle": "2025-07-09T14:41:54.046923Z",
     "shell.execute_reply": "2025-07-09T14:41:54.046331Z",
     "shell.execute_reply.started": "2025-07-09T14:41:54.038238Z"
    },
    "trusted": true
   },
   "outputs": [
    {
     "data": {
      "text/html": [
       "<div>\n",
       "<style scoped>\n",
       "    .dataframe tbody tr th:only-of-type {\n",
       "        vertical-align: middle;\n",
       "    }\n",
       "\n",
       "    .dataframe tbody tr th {\n",
       "        vertical-align: top;\n",
       "    }\n",
       "\n",
       "    .dataframe thead th {\n",
       "        text-align: right;\n",
       "    }\n",
       "</style>\n",
       "<table border=\"1\" class=\"dataframe\">\n",
       "  <thead>\n",
       "    <tr style=\"text-align: right;\">\n",
       "      <th></th>\n",
       "      <th>filename</th>\n",
       "      <th>fold</th>\n",
       "      <th>target</th>\n",
       "      <th>category</th>\n",
       "      <th>esc10</th>\n",
       "      <th>src_file</th>\n",
       "      <th>take</th>\n",
       "    </tr>\n",
       "  </thead>\n",
       "  <tbody>\n",
       "    <tr>\n",
       "      <th>1995</th>\n",
       "      <td>5-263831-B-6.wav</td>\n",
       "      <td>5</td>\n",
       "      <td>6</td>\n",
       "      <td>hen</td>\n",
       "      <td>False</td>\n",
       "      <td>263831</td>\n",
       "      <td>B</td>\n",
       "    </tr>\n",
       "    <tr>\n",
       "      <th>1996</th>\n",
       "      <td>5-263902-A-36.wav</td>\n",
       "      <td>5</td>\n",
       "      <td>36</td>\n",
       "      <td>vacuum_cleaner</td>\n",
       "      <td>False</td>\n",
       "      <td>263902</td>\n",
       "      <td>A</td>\n",
       "    </tr>\n",
       "    <tr>\n",
       "      <th>1997</th>\n",
       "      <td>5-51149-A-25.wav</td>\n",
       "      <td>5</td>\n",
       "      <td>25</td>\n",
       "      <td>footsteps</td>\n",
       "      <td>False</td>\n",
       "      <td>51149</td>\n",
       "      <td>A</td>\n",
       "    </tr>\n",
       "    <tr>\n",
       "      <th>1998</th>\n",
       "      <td>5-61635-A-8.wav</td>\n",
       "      <td>5</td>\n",
       "      <td>8</td>\n",
       "      <td>sheep</td>\n",
       "      <td>False</td>\n",
       "      <td>61635</td>\n",
       "      <td>A</td>\n",
       "    </tr>\n",
       "    <tr>\n",
       "      <th>1999</th>\n",
       "      <td>5-9032-A-0.wav</td>\n",
       "      <td>5</td>\n",
       "      <td>0</td>\n",
       "      <td>dog</td>\n",
       "      <td>True</td>\n",
       "      <td>9032</td>\n",
       "      <td>A</td>\n",
       "    </tr>\n",
       "  </tbody>\n",
       "</table>\n",
       "</div>"
      ],
      "text/plain": [
       "               filename  fold  target        category  esc10  src_file take\n",
       "1995   5-263831-B-6.wav     5       6             hen  False    263831    B\n",
       "1996  5-263902-A-36.wav     5      36  vacuum_cleaner  False    263902    A\n",
       "1997   5-51149-A-25.wav     5      25       footsteps  False     51149    A\n",
       "1998    5-61635-A-8.wav     5       8           sheep  False     61635    A\n",
       "1999     5-9032-A-0.wav     5       0             dog   True      9032    A"
      ]
     },
     "execution_count": 8,
     "metadata": {},
     "output_type": "execute_result"
    }
   ],
   "source": [
    "au_csv.tail()"
   ]
  },
  {
   "cell_type": "code",
   "execution_count": 9,
   "metadata": {
    "execution": {
     "iopub.execute_input": "2025-07-09T14:41:57.942993Z",
     "iopub.status.busy": "2025-07-09T14:41:57.942722Z",
     "iopub.status.idle": "2025-07-09T14:41:57.963629Z",
     "shell.execute_reply": "2025-07-09T14:41:57.962918Z",
     "shell.execute_reply.started": "2025-07-09T14:41:57.942972Z"
    },
    "trusted": true
   },
   "outputs": [
    {
     "name": "stdout",
     "output_type": "stream",
     "text": [
      "<class 'pandas.core.frame.DataFrame'>\n",
      "RangeIndex: 2000 entries, 0 to 1999\n",
      "Data columns (total 7 columns):\n",
      " #   Column    Non-Null Count  Dtype \n",
      "---  ------    --------------  ----- \n",
      " 0   filename  2000 non-null   object\n",
      " 1   fold      2000 non-null   int64 \n",
      " 2   target    2000 non-null   int64 \n",
      " 3   category  2000 non-null   object\n",
      " 4   esc10     2000 non-null   bool  \n",
      " 5   src_file  2000 non-null   int64 \n",
      " 6   take      2000 non-null   object\n",
      "dtypes: bool(1), int64(3), object(3)\n",
      "memory usage: 95.8+ KB\n"
     ]
    }
   ],
   "source": [
    "au_csv.info()"
   ]
  },
  {
   "cell_type": "code",
   "execution_count": 10,
   "metadata": {
    "execution": {
     "iopub.execute_input": "2025-07-09T14:41:58.254320Z",
     "iopub.status.busy": "2025-07-09T14:41:58.254057Z",
     "iopub.status.idle": "2025-07-09T14:41:58.258187Z",
     "shell.execute_reply": "2025-07-09T14:41:58.257490Z",
     "shell.execute_reply.started": "2025-07-09T14:41:58.254298Z"
    },
    "trusted": true
   },
   "outputs": [],
   "source": [
    "filename = au_csv['filename']\n",
    "target = au_csv['target']\n",
    "category = au_csv['category']\n"
   ]
  },
  {
   "cell_type": "code",
   "execution_count": 11,
   "metadata": {
    "execution": {
     "iopub.execute_input": "2025-07-09T14:41:58.483233Z",
     "iopub.status.busy": "2025-07-09T14:41:58.483027Z",
     "iopub.status.idle": "2025-07-09T14:41:58.494860Z",
     "shell.execute_reply": "2025-07-09T14:41:58.494247Z",
     "shell.execute_reply.started": "2025-07-09T14:41:58.483216Z"
    },
    "trusted": true
   },
   "outputs": [],
   "source": [
    "new_df = pd.DataFrame({\n",
    "    'filename': filename,\n",
    "    'target': target,\n",
    "    \"category\": category\n",
    "})\n",
    "new_df.to_csv('audio_labels.csv', index=False)"
   ]
  },
  {
   "cell_type": "code",
   "execution_count": 12,
   "metadata": {
    "execution": {
     "iopub.execute_input": "2025-07-09T14:41:58.639496Z",
     "iopub.status.busy": "2025-07-09T14:41:58.639292Z",
     "iopub.status.idle": "2025-07-09T14:41:58.646180Z",
     "shell.execute_reply": "2025-07-09T14:41:58.645572Z",
     "shell.execute_reply.started": "2025-07-09T14:41:58.639480Z"
    },
    "trusted": true
   },
   "outputs": [],
   "source": [
    "label_csv = pd.read_csv('audio_labels.csv')"
   ]
  },
  {
   "cell_type": "code",
   "execution_count": 13,
   "metadata": {
    "execution": {
     "iopub.execute_input": "2025-07-09T14:42:00.192728Z",
     "iopub.status.busy": "2025-07-09T14:42:00.192442Z",
     "iopub.status.idle": "2025-07-09T14:42:00.200031Z",
     "shell.execute_reply": "2025-07-09T14:42:00.199474Z",
     "shell.execute_reply.started": "2025-07-09T14:42:00.192704Z"
    },
    "trusted": true
   },
   "outputs": [
    {
     "data": {
      "text/html": [
       "<div>\n",
       "<style scoped>\n",
       "    .dataframe tbody tr th:only-of-type {\n",
       "        vertical-align: middle;\n",
       "    }\n",
       "\n",
       "    .dataframe tbody tr th {\n",
       "        vertical-align: top;\n",
       "    }\n",
       "\n",
       "    .dataframe thead th {\n",
       "        text-align: right;\n",
       "    }\n",
       "</style>\n",
       "<table border=\"1\" class=\"dataframe\">\n",
       "  <thead>\n",
       "    <tr style=\"text-align: right;\">\n",
       "      <th></th>\n",
       "      <th>filename</th>\n",
       "      <th>target</th>\n",
       "      <th>category</th>\n",
       "    </tr>\n",
       "  </thead>\n",
       "  <tbody>\n",
       "    <tr>\n",
       "      <th>0</th>\n",
       "      <td>1-100032-A-0.wav</td>\n",
       "      <td>0</td>\n",
       "      <td>dog</td>\n",
       "    </tr>\n",
       "    <tr>\n",
       "      <th>1</th>\n",
       "      <td>1-100038-A-14.wav</td>\n",
       "      <td>14</td>\n",
       "      <td>chirping_birds</td>\n",
       "    </tr>\n",
       "    <tr>\n",
       "      <th>2</th>\n",
       "      <td>1-100210-A-36.wav</td>\n",
       "      <td>36</td>\n",
       "      <td>vacuum_cleaner</td>\n",
       "    </tr>\n",
       "    <tr>\n",
       "      <th>3</th>\n",
       "      <td>1-100210-B-36.wav</td>\n",
       "      <td>36</td>\n",
       "      <td>vacuum_cleaner</td>\n",
       "    </tr>\n",
       "    <tr>\n",
       "      <th>4</th>\n",
       "      <td>1-101296-A-19.wav</td>\n",
       "      <td>19</td>\n",
       "      <td>thunderstorm</td>\n",
       "    </tr>\n",
       "  </tbody>\n",
       "</table>\n",
       "</div>"
      ],
      "text/plain": [
       "            filename  target        category\n",
       "0   1-100032-A-0.wav       0             dog\n",
       "1  1-100038-A-14.wav      14  chirping_birds\n",
       "2  1-100210-A-36.wav      36  vacuum_cleaner\n",
       "3  1-100210-B-36.wav      36  vacuum_cleaner\n",
       "4  1-101296-A-19.wav      19    thunderstorm"
      ]
     },
     "execution_count": 13,
     "metadata": {},
     "output_type": "execute_result"
    }
   ],
   "source": [
    "label_csv.head()"
   ]
  },
  {
   "cell_type": "code",
   "execution_count": 14,
   "metadata": {
    "execution": {
     "iopub.execute_input": "2025-07-09T14:42:00.366738Z",
     "iopub.status.busy": "2025-07-09T14:42:00.366464Z",
     "iopub.status.idle": "2025-07-09T14:42:00.373893Z",
     "shell.execute_reply": "2025-07-09T14:42:00.373177Z",
     "shell.execute_reply.started": "2025-07-09T14:42:00.366717Z"
    },
    "trusted": true
   },
   "outputs": [
    {
     "data": {
      "text/html": [
       "<div>\n",
       "<style scoped>\n",
       "    .dataframe tbody tr th:only-of-type {\n",
       "        vertical-align: middle;\n",
       "    }\n",
       "\n",
       "    .dataframe tbody tr th {\n",
       "        vertical-align: top;\n",
       "    }\n",
       "\n",
       "    .dataframe thead th {\n",
       "        text-align: right;\n",
       "    }\n",
       "</style>\n",
       "<table border=\"1\" class=\"dataframe\">\n",
       "  <thead>\n",
       "    <tr style=\"text-align: right;\">\n",
       "      <th></th>\n",
       "      <th>filename</th>\n",
       "      <th>target</th>\n",
       "      <th>category</th>\n",
       "    </tr>\n",
       "  </thead>\n",
       "  <tbody>\n",
       "    <tr>\n",
       "      <th>1995</th>\n",
       "      <td>5-263831-B-6.wav</td>\n",
       "      <td>6</td>\n",
       "      <td>hen</td>\n",
       "    </tr>\n",
       "    <tr>\n",
       "      <th>1996</th>\n",
       "      <td>5-263902-A-36.wav</td>\n",
       "      <td>36</td>\n",
       "      <td>vacuum_cleaner</td>\n",
       "    </tr>\n",
       "    <tr>\n",
       "      <th>1997</th>\n",
       "      <td>5-51149-A-25.wav</td>\n",
       "      <td>25</td>\n",
       "      <td>footsteps</td>\n",
       "    </tr>\n",
       "    <tr>\n",
       "      <th>1998</th>\n",
       "      <td>5-61635-A-8.wav</td>\n",
       "      <td>8</td>\n",
       "      <td>sheep</td>\n",
       "    </tr>\n",
       "    <tr>\n",
       "      <th>1999</th>\n",
       "      <td>5-9032-A-0.wav</td>\n",
       "      <td>0</td>\n",
       "      <td>dog</td>\n",
       "    </tr>\n",
       "  </tbody>\n",
       "</table>\n",
       "</div>"
      ],
      "text/plain": [
       "               filename  target        category\n",
       "1995   5-263831-B-6.wav       6             hen\n",
       "1996  5-263902-A-36.wav      36  vacuum_cleaner\n",
       "1997   5-51149-A-25.wav      25       footsteps\n",
       "1998    5-61635-A-8.wav       8           sheep\n",
       "1999     5-9032-A-0.wav       0             dog"
      ]
     },
     "execution_count": 14,
     "metadata": {},
     "output_type": "execute_result"
    }
   ],
   "source": [
    "label_csv.tail()"
   ]
  },
  {
   "cell_type": "code",
   "execution_count": 15,
   "metadata": {
    "execution": {
     "iopub.execute_input": "2025-07-09T14:42:00.495922Z",
     "iopub.status.busy": "2025-07-09T14:42:00.495725Z",
     "iopub.status.idle": "2025-07-09T14:42:00.504897Z",
     "shell.execute_reply": "2025-07-09T14:42:00.504149Z",
     "shell.execute_reply.started": "2025-07-09T14:42:00.495907Z"
    },
    "trusted": true
   },
   "outputs": [
    {
     "name": "stdout",
     "output_type": "stream",
     "text": [
      "<class 'pandas.core.frame.DataFrame'>\n",
      "RangeIndex: 2000 entries, 0 to 1999\n",
      "Data columns (total 3 columns):\n",
      " #   Column    Non-Null Count  Dtype \n",
      "---  ------    --------------  ----- \n",
      " 0   filename  2000 non-null   object\n",
      " 1   target    2000 non-null   int64 \n",
      " 2   category  2000 non-null   object\n",
      "dtypes: int64(1), object(2)\n",
      "memory usage: 47.0+ KB\n"
     ]
    }
   ],
   "source": [
    "label_csv.info()"
   ]
  },
  {
   "cell_type": "code",
   "execution_count": 16,
   "metadata": {
    "execution": {
     "iopub.execute_input": "2025-07-09T14:42:02.088450Z",
     "iopub.status.busy": "2025-07-09T14:42:02.087768Z",
     "iopub.status.idle": "2025-07-09T14:42:02.098282Z",
     "shell.execute_reply": "2025-07-09T14:42:02.097492Z",
     "shell.execute_reply.started": "2025-07-09T14:42:02.088424Z"
    },
    "trusted": true
   },
   "outputs": [
    {
     "name": "stdout",
     "output_type": "stream",
     "text": [
      "     target          category\n",
      "0         0               dog\n",
      "141       1           rooster\n",
      "99        2               pig\n",
      "49        3               cow\n",
      "45        4              frog\n",
      "175       5               cat\n",
      "70        6               hen\n",
      "64        7           insects\n",
      "29        8             sheep\n",
      "8         9              crow\n",
      "62       10              rain\n",
      "148      11         sea_waves\n",
      "54       12    crackling_fire\n",
      "286      13          crickets\n",
      "1        14    chirping_birds\n",
      "30       15       water_drops\n",
      "37       16              wind\n",
      "27       17     pouring_water\n",
      "98       18      toilet_flush\n",
      "4        19      thunderstorm\n",
      "78       20       crying_baby\n",
      "136      21          sneezing\n",
      "11       22          clapping\n",
      "76       23         breathing\n",
      "84       24          coughing\n",
      "39       25         footsteps\n",
      "68       26          laughing\n",
      "51       27    brushing_teeth\n",
      "97       28           snoring\n",
      "61       29  drinking_sipping\n",
      "6        30   door_wood_knock\n",
      "26       31       mouse_click\n",
      "36       32   keyboard_typing\n",
      "252      33  door_wood_creaks\n",
      "7        34       can_opening\n",
      "109      35   washing_machine\n",
      "2        36    vacuum_cleaner\n",
      "35       37       clock_alarm\n",
      "110      38        clock_tick\n",
      "95       39    glass_breaking\n",
      "55       40        helicopter\n",
      "24       41          chainsaw\n",
      "165      42             siren\n",
      "53       43          car_horn\n",
      "74       44            engine\n",
      "28       45             train\n",
      "33       46      church_bells\n",
      "25       47          airplane\n",
      "17       48         fireworks\n",
      "82       49          hand_saw\n"
     ]
    }
   ],
   "source": [
    "label2num = au_csv[['target', 'category']].drop_duplicates().sort_values('target')\n",
    "print(label2num)"
   ]
  },
  {
   "cell_type": "code",
   "execution_count": 17,
   "metadata": {
    "execution": {
     "iopub.execute_input": "2025-07-09T14:42:02.257023Z",
     "iopub.status.busy": "2025-07-09T14:42:02.256813Z",
     "iopub.status.idle": "2025-07-09T14:42:02.589803Z",
     "shell.execute_reply": "2025-07-09T14:42:02.589109Z",
     "shell.execute_reply.started": "2025-07-09T14:42:02.257006Z"
    },
    "trusted": true
   },
   "outputs": [
    {
     "data": {
      "image/png": "[encoded data removed]",
      "text/plain": [
       "<Figure size 640x480 with 1 Axes>"
      ]
     },
     "metadata": {},
     "output_type": "display_data"
    }
   ],
   "source": [
    "counts = target.value_counts()\n",
    "\n",
    "plt.bar(counts.index, counts.values, width=0.5)\n",
    "plt.title('Number of Label')\n",
    "plt.grid(axis='y', linestyle='--', alpha=0.7)\n",
    "plt.show()"
   ]
  },
  {
   "cell_type": "code",
   "execution_count": 18,
   "metadata": {
    "execution": {
     "iopub.execute_input": "2025-07-09T14:42:05.402472Z",
     "iopub.status.busy": "2025-07-09T14:42:05.402187Z",
     "iopub.status.idle": "2025-07-09T14:42:05.433761Z",
     "shell.execute_reply": "2025-07-09T14:42:05.433163Z",
     "shell.execute_reply.started": "2025-07-09T14:42:05.402454Z"
    },
    "trusted": true
   },
   "outputs": [
    {
     "name": "stdout",
     "output_type": "stream",
     "text": [
      "Tổng số file .wav: 2000\n",
      "Tổng số mẫu: 2000\n",
      "Các lớp: 50\n"
     ]
    }
   ],
   "source": [
    "import os\n",
    "audio_dir = r\"D:\\code\\1SU25-DPL\\PRJ-audio\\archive\\audio\\16000\"\n",
    "wav_files = set([f for f in os.listdir(audio_dir) if f.endswith(\".wav\")])\n",
    "print(f\"Tổng số file .wav: {len(wav_files)}\")\n",
    "print(f\"Tổng số mẫu: {len(label_csv)}\")\n",
    "print(f\"Các lớp: {label_csv['target'].nunique()}\")\n"
   ]
  },
  {
   "cell_type": "code",
   "execution_count": 20,
   "metadata": {
    "execution": {
     "iopub.execute_input": "2025-07-09T14:42:07.860420Z",
     "iopub.status.busy": "2025-07-09T14:42:07.860172Z",
     "iopub.status.idle": "2025-07-09T14:42:07.866047Z",
     "shell.execute_reply": "2025-07-09T14:42:07.865279Z",
     "shell.execute_reply.started": "2025-07-09T14:42:07.860403Z"
    },
    "trusted": true
   },
   "outputs": [
    {
     "name": "stdout",
     "output_type": "stream",
     "text": [
      "All files in the CSV are present in audio.\n",
      "No extra files in audio.\n"
     ]
    }
   ],
   "source": [
    "csv_files = set(au_csv['filename'])\n",
    "missing_in_audio = csv_files - wav_files\n",
    "extra_in_audio = wav_files - csv_files\n",
    "\n",
    "if missing_in_audio:\n",
    "    print(f\"\\n{len(missing_in_audio)} files listed in CSV but NOT found in audio/:\")\n",
    "    print(list(missing_in_audio)[:10])\n",
    "else:\n",
    "    print(\"All files in the CSV are present in audio.\")\n",
    "\n",
    "if extra_in_audio:\n",
    "    print(f\"\\n{len(extra_in_audio)} files found in audio/ but NOT listed in CSV:\")\n",
    "    print(list(extra_in_audio)[:10])\n",
    "else:\n",
    "    print(\"No extra files in audio.\")\n"
   ]
  },
  {
   "cell_type": "code",
   "execution_count": 20,
   "metadata": {
    "execution": {
     "iopub.execute_input": "2025-07-09T14:42:13.815102Z",
     "iopub.status.busy": "2025-07-09T14:42:13.814900Z",
     "iopub.status.idle": "2025-07-09T14:42:20.745383Z",
     "shell.execute_reply": "2025-07-09T14:42:20.744833Z",
     "shell.execute_reply.started": "2025-07-09T14:42:13.815083Z"
    },
    "trusted": true
   },
   "outputs": [],
   "source": [
    "import os, numpy as np, pandas as pd\n",
    "import librosa, matplotlib.pyplot as plt\n",
    "from tqdm import tqdm\n",
    "\n",
    "import torch\n",
    "import torch.nn as nn\n",
    "import torch.optim as optim\n",
    "from torch.utils.data import Dataset, DataLoader\n",
    "from sklearn.model_selection import train_test_split\n",
    "from torchvision import models, transforms\n",
    "from sklearn.metrics import accuracy_score\n"
   ]
  },
  {
   "cell_type": "code",
   "execution_count": 21,
   "metadata": {
    "execution": {
     "iopub.execute_input": "2025-07-09T14:42:23.429739Z",
     "iopub.status.busy": "2025-07-09T14:42:23.429334Z",
     "iopub.status.idle": "2025-07-09T14:42:23.434544Z",
     "shell.execute_reply": "2025-07-09T14:42:23.433835Z",
     "shell.execute_reply.started": "2025-07-09T14:42:23.429717Z"
    },
    "trusted": true
   },
   "outputs": [],
   "source": [
    "def extract_mel_rgb(path, n_mels=128):\n",
    "    y, sr = librosa.load(path, sr=44100)\n",
    "    mel = librosa.feature.melspectrogram(y=y, sr=sr, n_mels=n_mels)\n",
    "    mel_db = librosa.power_to_db(mel, ref=np.max)\n",
    "\n",
    "    mel_db = (mel_db - mel_db.min()) / (mel_db.max() - mel_db.min()) * 255\n",
    "    mel_db = np.uint8(mel_db)\n",
    "    mel_db = np.stack([mel_db]*3, axis=-1)\n",
    "    return mel_db\n"
   ]
  },
  {
   "cell_type": "code",
   "execution_count": 22,
   "metadata": {
    "execution": {
     "iopub.execute_input": "2025-07-09T14:42:25.212286Z",
     "iopub.status.busy": "2025-07-09T14:42:25.211586Z",
     "iopub.status.idle": "2025-07-09T14:42:25.216858Z",
     "shell.execute_reply": "2025-07-09T14:42:25.216161Z",
     "shell.execute_reply.started": "2025-07-09T14:42:25.212259Z"
    },
    "trusted": true
   },
   "outputs": [],
   "source": [
    "class AudioDataset(Dataset):\n",
    "    def __init__(self, df_idx, transform=None):\n",
    "        self.df_idx = df_idx\n",
    "        self.transform = transform\n",
    "\n",
    "    def __len__(self): return len(self.df_idx)\n",
    "\n",
    "    def __getitem__(self, idx):\n",
    "        row = au_csv.iloc[self.df_idx[idx]]\n",
    "        path = os.path.join(audio_dir, row['filename'])\n",
    "        mel_img = extract_mel_rgb(path)  \n",
    "        mel_img = transforms.ToPILImage()(mel_img) \n",
    "        if self.transform: mel_img = self.transform(mel_img)\n",
    "        label = row['target']\n",
    "        return mel_img, label\n"
   ]
  },
  {
   "cell_type": "code",
   "execution_count": 23,
   "metadata": {
    "execution": {
     "iopub.execute_input": "2025-07-09T14:42:27.254987Z",
     "iopub.status.busy": "2025-07-09T14:42:27.254281Z",
     "iopub.status.idle": "2025-07-09T14:42:27.269731Z",
     "shell.execute_reply": "2025-07-09T14:42:27.268831Z",
     "shell.execute_reply.started": "2025-07-09T14:42:27.254960Z"
    },
    "trusted": true
   },
   "outputs": [
    {
     "name": "stdout",
     "output_type": "stream",
     "text": [
      "train: 1500\n",
      "val: 100\n",
      "test: 400\n"
     ]
    }
   ],
   "source": [
    "idx = np.arange(len(au_csv))\n",
    "train_val_idx, test_idx = train_test_split(\n",
    "    idx, test_size=0.20, stratify=au_csv['target'], random_state=42\n",
    ")\n",
    "\n",
    "val_size = 0.05 / 0.80\n",
    "train_idx, val_idx = train_test_split(\n",
    "    train_val_idx, test_size=val_size, stratify=au_csv.loc[train_val_idx, 'target'], random_state=42\n",
    ")\n",
    "\n",
    "print(f'train: {len(train_idx)}')\n",
    "print(f'val: {len(val_idx)}')\n",
    "print(f'test: {len(test_idx)}')"
   ]
  },
  {
   "cell_type": "markdown",
   "metadata": {},
   "source": [
    "# Data processing"
   ]
  },
  {
   "cell_type": "code",
   "execution_count": 25,
   "metadata": {
    "execution": {
     "iopub.execute_input": "2025-07-09T14:42:31.101040Z",
     "iopub.status.busy": "2025-07-09T14:42:31.100553Z",
     "iopub.status.idle": "2025-07-09T14:42:31.106196Z",
     "shell.execute_reply": "2025-07-09T14:42:31.105500Z",
     "shell.execute_reply.started": "2025-07-09T14:42:31.101015Z"
    },
    "trusted": true
   },
   "outputs": [],
   "source": [
    "tfms = transforms.Compose([\n",
    "    transforms.Resize((224,224)),\n",
    "    transforms.ToTensor(),\n",
    "    transforms.Normalize(mean=[0.5]*3, std=[0.5]*3)\n",
    "])\n",
    "\n",
    "train_set = AudioDataset(train_idx, transform=tfms)\n",
    "val_set   = AudioDataset(val_idx, transform=tfms)\n",
    "test_set  = AudioDataset(test_idx, transform=tfms)\n",
    "\n",
    "train_loader = DataLoader(train_set, batch_size=64, shuffle=True)\n",
    "val_loader   = DataLoader(val_set, batch_size=64)\n",
    "test_loader  = DataLoader(test_set, batch_size=64)\n"
   ]
  },
  {
   "cell_type": "code",
   "execution_count": 26,
   "metadata": {
    "execution": {
     "iopub.execute_input": "2025-07-09T14:42:32.810770Z",
     "iopub.status.busy": "2025-07-09T14:42:32.810163Z",
     "iopub.status.idle": "2025-07-09T14:42:33.686013Z",
     "shell.execute_reply": "2025-07-09T14:42:33.685419Z",
     "shell.execute_reply.started": "2025-07-09T14:42:32.810744Z"
    },
    "trusted": true
   },
   "outputs": [
    {
     "name": "stderr",
     "output_type": "stream",
     "text": [
      "c:\\Users\\admin\\AppData\\Local\\Programs\\Python\\Python312\\Lib\\site-packages\\torchvision\\models\\_utils.py:208: UserWarning: The parameter 'pretrained' is deprecated since 0.13 and may be removed in the future, please use 'weights' instead.\n",
      "  warnings.warn(\n",
      "c:\\Users\\admin\\AppData\\Local\\Programs\\Python\\Python312\\Lib\\site-packages\\torchvision\\models\\_utils.py:223: UserWarning: Arguments other than a weight enum or `None` for 'weights' are deprecated since 0.13 and may be removed in the future. The current behavior is equivalent to passing `weights=ResNet18_Weights.IMAGENET1K_V1`. You can also use `weights=ResNet18_Weights.DEFAULT` to get the most up-to-date weights.\n",
      "  warnings.warn(msg)\n"
     ]
    }
   ],
   "source": [
    "device = torch.device(\"cuda\" if torch.cuda.is_available() else \"cpu\")\n",
    "\n",
    "model = models.resnet18(pretrained=True)\n",
    "model.fc = nn.Linear(512, au_csv['target'].nunique())\n",
    "model = model.to(device)\n",
    "\n",
    "criterion = nn.CrossEntropyLoss()\n",
    "optimizer = optim.Adam(model.parameters(), lr=1e-4)\n"
   ]
  },
  {
   "cell_type": "markdown",
   "metadata": {},
   "source": [
    "# Train model"
   ]
  },
  {
   "cell_type": "code",
   "execution_count": 27,
   "metadata": {
    "execution": {
     "iopub.execute_input": "2025-07-09T14:42:35.066840Z",
     "iopub.status.busy": "2025-07-09T14:42:35.066207Z",
     "iopub.status.idle": "2025-07-09T14:42:35.071917Z",
     "shell.execute_reply": "2025-07-09T14:42:35.071100Z",
     "shell.execute_reply.started": "2025-07-09T14:42:35.066803Z"
    },
    "trusted": true
   },
   "outputs": [],
   "source": [
    "def compute_loss_acc(loader):\n",
    "    model.eval()\n",
    "    total_loss, y_true, y_pred = 0.0, [], []\n",
    "    with torch.no_grad():\n",
    "        for xb, yb in loader:\n",
    "            xb, yb = xb.to(device), yb.to(device)\n",
    "            logits = model(xb)\n",
    "            loss = criterion(logits, yb)\n",
    "            total_loss += loss.item()\n",
    "            preds = logits.argmax(1)\n",
    "            y_true.extend(yb.cpu().numpy())\n",
    "            y_pred.extend(preds.cpu().numpy())\n",
    "    avg_loss = total_loss / len(loader)\n",
    "    acc = accuracy_score(y_true, y_pred)\n",
    "    return avg_loss, acc\n"
   ]
  },
  {
   "cell_type": "code",
   "execution_count": 27,
   "metadata": {
    "execution": {
     "iopub.execute_input": "2025-07-09T14:43:47.837410Z",
     "iopub.status.busy": "2025-07-09T14:43:47.836661Z",
     "iopub.status.idle": "2025-07-09T14:57:12.729201Z",
     "shell.execute_reply": "2025-07-09T14:57:12.728514Z",
     "shell.execute_reply.started": "2025-07-09T14:43:47.837380Z"
    },
    "trusted": true
   },
   "outputs": [
    {
     "name": "stderr",
     "output_type": "stream",
     "text": [
      "Epoch 1/20: 100%|██████████| 24/24 [00:51<00:00,  2.13s/it]\n"
     ]
    },
    {
     "name": "stdout",
     "output_type": "stream",
     "text": [
      "Epoch [1] | Train Loss: 3.1335, Train Acc: 24.93% | Val Loss: 2.6882, Val Acc: 42.00%\n"
     ]
    },
    {
     "name": "stderr",
     "output_type": "stream",
     "text": [
      "Epoch 2/20: 100%|██████████| 24/24 [00:37<00:00,  1.55s/it]\n"
     ]
    },
    {
     "name": "stdout",
     "output_type": "stream",
     "text": [
      "Epoch [2] | Train Loss: 1.5766, Train Acc: 75.80% | Val Loss: 1.7597, Val Acc: 65.00%\n"
     ]
    },
    {
     "name": "stderr",
     "output_type": "stream",
     "text": [
      "Epoch 3/20: 100%|██████████| 24/24 [00:37<00:00,  1.56s/it]\n"
     ]
    },
    {
     "name": "stdout",
     "output_type": "stream",
     "text": [
      "Epoch [3] | Train Loss: 0.8628, Train Acc: 89.47% | Val Loss: 1.1917, Val Acc: 73.00%\n"
     ]
    },
    {
     "name": "stderr",
     "output_type": "stream",
     "text": [
      "Epoch 4/20: 100%|██████████| 24/24 [00:37<00:00,  1.57s/it]\n"
     ]
    },
    {
     "name": "stdout",
     "output_type": "stream",
     "text": [
      "Epoch [4] | Train Loss: 0.4764, Train Acc: 96.73% | Val Loss: 0.9347, Val Acc: 81.00%\n"
     ]
    },
    {
     "name": "stderr",
     "output_type": "stream",
     "text": [
      "Epoch 5/20: 100%|██████████| 24/24 [00:37<00:00,  1.56s/it]\n"
     ]
    },
    {
     "name": "stdout",
     "output_type": "stream",
     "text": [
      "Epoch [5] | Train Loss: 0.2559, Train Acc: 98.93% | Val Loss: 0.8576, Val Acc: 81.00%\n"
     ]
    },
    {
     "name": "stderr",
     "output_type": "stream",
     "text": [
      "Epoch 6/20: 100%|██████████| 24/24 [00:36<00:00,  1.54s/it]\n"
     ]
    },
    {
     "name": "stdout",
     "output_type": "stream",
     "text": [
      "Epoch [6] | Train Loss: 0.1429, Train Acc: 99.93% | Val Loss: 0.8291, Val Acc: 81.00%\n"
     ]
    },
    {
     "name": "stderr",
     "output_type": "stream",
     "text": [
      "Epoch 7/20: 100%|██████████| 24/24 [00:36<00:00,  1.54s/it]\n"
     ]
    },
    {
     "name": "stdout",
     "output_type": "stream",
     "text": [
      "Epoch [7] | Train Loss: 0.0945, Train Acc: 99.93% | Val Loss: 0.7448, Val Acc: 84.00%\n"
     ]
    },
    {
     "name": "stderr",
     "output_type": "stream",
     "text": [
      "Epoch 8/20: 100%|██████████| 24/24 [00:36<00:00,  1.53s/it]\n"
     ]
    },
    {
     "name": "stdout",
     "output_type": "stream",
     "text": [
      "Epoch [8] | Train Loss: 0.0608, Train Acc: 100.00% | Val Loss: 0.7176, Val Acc: 84.00%\n"
     ]
    },
    {
     "name": "stderr",
     "output_type": "stream",
     "text": [
      "Epoch 9/20: 100%|██████████| 24/24 [00:37<00:00,  1.56s/it]\n"
     ]
    },
    {
     "name": "stdout",
     "output_type": "stream",
     "text": [
      "Epoch [9] | Train Loss: 0.0476, Train Acc: 100.00% | Val Loss: 0.7028, Val Acc: 85.00%\n"
     ]
    },
    {
     "name": "stderr",
     "output_type": "stream",
     "text": [
      "Epoch 10/20: 100%|██████████| 24/24 [00:36<00:00,  1.54s/it]\n"
     ]
    },
    {
     "name": "stdout",
     "output_type": "stream",
     "text": [
      "Epoch [10] | Train Loss: 0.0373, Train Acc: 100.00% | Val Loss: 0.6884, Val Acc: 82.00%\n"
     ]
    },
    {
     "name": "stderr",
     "output_type": "stream",
     "text": [
      "Epoch 11/20: 100%|██████████| 24/24 [00:37<00:00,  1.55s/it]\n"
     ]
    },
    {
     "name": "stdout",
     "output_type": "stream",
     "text": [
      "Epoch [11] | Train Loss: 0.0309, Train Acc: 100.00% | Val Loss: 0.6749, Val Acc: 85.00%\n"
     ]
    },
    {
     "name": "stderr",
     "output_type": "stream",
     "text": [
      "Epoch 12/20: 100%|██████████| 24/24 [00:37<00:00,  1.54s/it]\n"
     ]
    },
    {
     "name": "stdout",
     "output_type": "stream",
     "text": [
      "Epoch [12] | Train Loss: 0.0243, Train Acc: 100.00% | Val Loss: 0.6723, Val Acc: 81.00%\n"
     ]
    },
    {
     "name": "stderr",
     "output_type": "stream",
     "text": [
      "Epoch 13/20: 100%|██████████| 24/24 [00:37<00:00,  1.56s/it]\n"
     ]
    },
    {
     "name": "stdout",
     "output_type": "stream",
     "text": [
      "Epoch [13] | Train Loss: 0.0198, Train Acc: 100.00% | Val Loss: 0.6543, Val Acc: 84.00%\n"
     ]
    },
    {
     "name": "stderr",
     "output_type": "stream",
     "text": [
      "Epoch 14/20: 100%|██████████| 24/24 [00:37<00:00,  1.55s/it]\n"
     ]
    },
    {
     "name": "stdout",
     "output_type": "stream",
     "text": [
      "Epoch [14] | Train Loss: 0.0173, Train Acc: 100.00% | Val Loss: 0.6474, Val Acc: 84.00%\n"
     ]
    },
    {
     "name": "stderr",
     "output_type": "stream",
     "text": [
      "Epoch 15/20: 100%|██████████| 24/24 [00:37<00:00,  1.55s/it]\n"
     ]
    },
    {
     "name": "stdout",
     "output_type": "stream",
     "text": [
      "Epoch [15] | Train Loss: 0.0168, Train Acc: 100.00% | Val Loss: 0.6354, Val Acc: 83.00%\n"
     ]
    },
    {
     "name": "stderr",
     "output_type": "stream",
     "text": [
      "Epoch 16/20: 100%|██████████| 24/24 [00:38<00:00,  1.62s/it]\n"
     ]
    },
    {
     "name": "stdout",
     "output_type": "stream",
     "text": [
      "Epoch [16] | Train Loss: 0.0159, Train Acc: 100.00% | Val Loss: 0.6433, Val Acc: 85.00%\n"
     ]
    },
    {
     "name": "stderr",
     "output_type": "stream",
     "text": [
      "Epoch 17/20: 100%|██████████| 24/24 [00:37<00:00,  1.55s/it]\n"
     ]
    },
    {
     "name": "stdout",
     "output_type": "stream",
     "text": [
      "Epoch [17] | Train Loss: 0.0183, Train Acc: 99.93% | Val Loss: 0.6450, Val Acc: 84.00%\n"
     ]
    },
    {
     "name": "stderr",
     "output_type": "stream",
     "text": [
      "Epoch 18/20: 100%|██████████| 24/24 [00:37<00:00,  1.55s/it]\n"
     ]
    },
    {
     "name": "stdout",
     "output_type": "stream",
     "text": [
      "Epoch [18] | Train Loss: 0.0155, Train Acc: 100.00% | Val Loss: 0.6730, Val Acc: 81.00%\n"
     ]
    },
    {
     "name": "stderr",
     "output_type": "stream",
     "text": [
      "Epoch 19/20: 100%|██████████| 24/24 [00:37<00:00,  1.55s/it]\n"
     ]
    },
    {
     "name": "stdout",
     "output_type": "stream",
     "text": [
      "Epoch [19] | Train Loss: 0.0160, Train Acc: 100.00% | Val Loss: 0.6214, Val Acc: 86.00%\n"
     ]
    },
    {
     "name": "stderr",
     "output_type": "stream",
     "text": [
      "Epoch 20/20: 100%|██████████| 24/24 [00:37<00:00,  1.55s/it]\n"
     ]
    },
    {
     "name": "stdout",
     "output_type": "stream",
     "text": [
      "Epoch [20] | Train Loss: 0.0141, Train Acc: 100.00% | Val Loss: 0.6443, Val Acc: 84.00%\n"
     ]
    }
   ],
   "source": [
    "n_epochs = 20\n",
    "for epoch in range(n_epochs):\n",
    "    model.train()\n",
    "    train_loss = 0.0\n",
    "    train_correct = 0\n",
    "    train_total = 0\n",
    "    \n",
    "    for xb, yb in tqdm(train_loader, desc=f\"Epoch {epoch+1}/{n_epochs}\"):\n",
    "        xb, yb = xb.to(device), yb.to(device)\n",
    "        optimizer.zero_grad()\n",
    "        logits = model(xb)\n",
    "        loss = criterion(logits, yb)\n",
    "        loss.backward()\n",
    "        optimizer.step()\n",
    "        \n",
    "        train_loss += loss.item()\n",
    "        preds = logits.argmax(1)\n",
    "        train_correct += (preds == yb).sum().item()\n",
    "        train_total += yb.size(0)\n",
    "\n",
    "    avg_train_loss = train_loss / len(train_loader)\n",
    "    train_acc = train_correct / train_total\n",
    "\n",
    "    val_loss, val_acc = compute_loss_acc(val_loader)\n",
    "\n",
    "    print(f\"Epoch [{epoch+1}] | \"\n",
    "          f\"Train Loss: {avg_train_loss:.4f}, Train Acc: {train_acc*100:.2f}% | \"\n",
    "          f\"Val Loss: {val_loss:.4f}, Val Acc: {val_acc*100:.2f}%\")\n"
   ]
  },
  {
   "cell_type": "markdown",
   "metadata": {},
   "source": [
    "# Test model"
   ]
  },
  {
   "cell_type": "code",
   "execution_count": 28,
   "metadata": {
    "execution": {
     "iopub.execute_input": "2025-07-09T14:57:16.595450Z",
     "iopub.status.busy": "2025-07-09T14:57:16.594872Z",
     "iopub.status.idle": "2025-07-09T14:57:29.944649Z",
     "shell.execute_reply": "2025-07-09T14:57:29.943891Z",
     "shell.execute_reply.started": "2025-07-09T14:57:16.595429Z"
    },
    "trusted": true
   },
   "outputs": [
    {
     "name": "stdout",
     "output_type": "stream",
     "text": [
      "0.634003779717854\n",
      "0.84\n"
     ]
    }
   ],
   "source": [
    "test_loss, test_acc = compute_loss_acc(test_loader)\n",
    "print(test_loss)\n",
    "print(test_acc)"
   ]
  },
  {
   "cell_type": "markdown",
   "metadata": {},
   "source": [
    "# Save model"
   ]
  },
  {
   "cell_type": "code",
   "execution_count": 29,
   "metadata": {
    "execution": {
     "iopub.execute_input": "2025-07-09T14:57:48.956915Z",
     "iopub.status.busy": "2025-07-09T14:57:48.956361Z",
     "iopub.status.idle": "2025-07-09T14:57:49.027348Z",
     "shell.execute_reply": "2025-07-09T14:57:49.026823Z",
     "shell.execute_reply.started": "2025-07-09T14:57:48.956891Z"
    },
    "trusted": true
   },
   "outputs": [],
   "source": [
    "torch.save(model.state_dict(), \"esc50_resnet18.pth\")\n"
   ]
  },
  {
   "cell_type": "code",
   "execution_count": null,
   "metadata": {
    "execution": {
     "iopub.execute_input": "2025-07-09T15:00:02.855594Z",
     "iopub.status.busy": "2025-07-09T15:00:02.854871Z",
     "iopub.status.idle": "2025-07-09T15:00:02.908885Z",
     "shell.execute_reply": "2025-07-09T15:00:02.908280Z",
     "shell.execute_reply.started": "2025-07-09T15:00:02.855569Z"
    },
    "trusted": true
   },
   "outputs": [
    {
     "data": {
      "text/plain": [
       "ResNet(\n",
       "  (conv1): Conv2d(3, 64, kernel_size=(7, 7), stride=(2, 2), padding=(3, 3), bias=False)\n",
       "  (bn1): BatchNorm2d(64, eps=1e-05, momentum=0.1, affine=True, track_running_stats=True)\n",
       "  (relu): ReLU(inplace=True)\n",
       "  (maxpool): MaxPool2d(kernel_size=3, stride=2, padding=1, dilation=1, ceil_mode=False)\n",
       "  (layer1): Sequential(\n",
       "    (0): BasicBlock(\n",
       "      (conv1): Conv2d(64, 64, kernel_size=(3, 3), stride=(1, 1), padding=(1, 1), bias=False)\n",
       "      (bn1): BatchNorm2d(64, eps=1e-05, momentum=0.1, affine=True, track_running_stats=True)\n",
       "      (relu): ReLU(inplace=True)\n",
       "      (conv2): Conv2d(64, 64, kernel_size=(3, 3), stride=(1, 1), padding=(1, 1), bias=False)\n",
       "      (bn2): BatchNorm2d(64, eps=1e-05, momentum=0.1, affine=True, track_running_stats=True)\n",
       "    )\n",
       "    (1): BasicBlock(\n",
       "      (conv1): Conv2d(64, 64, kernel_size=(3, 3), stride=(1, 1), padding=(1, 1), bias=False)\n",
       "      (bn1): BatchNorm2d(64, eps=1e-05, momentum=0.1, affine=True, track_running_stats=True)\n",
       "      (relu): ReLU(inplace=True)\n",
       "      (conv2): Conv2d(64, 64, kernel_size=(3, 3), stride=(1, 1), padding=(1, 1), bias=False)\n",
       "      (bn2): BatchNorm2d(64, eps=1e-05, momentum=0.1, affine=True, track_running_stats=True)\n",
       "    )\n",
       "  )\n",
       "  (layer2): Sequential(\n",
       "    (0): BasicBlock(\n",
       "      (conv1): Conv2d(64, 128, kernel_size=(3, 3), stride=(2, 2), padding=(1, 1), bias=False)\n",
       "      (bn1): BatchNorm2d(128, eps=1e-05, momentum=0.1, affine=True, track_running_stats=True)\n",
       "      (relu): ReLU(inplace=True)\n",
       "      (conv2): Conv2d(128, 128, kernel_size=(3, 3), stride=(1, 1), padding=(1, 1), bias=False)\n",
       "      (bn2): BatchNorm2d(128, eps=1e-05, momentum=0.1, affine=True, track_running_stats=True)\n",
       "      (downsample): Sequential(\n",
       "        (0): Conv2d(64, 128, kernel_size=(1, 1), stride=(2, 2), bias=False)\n",
       "        (1): BatchNorm2d(128, eps=1e-05, momentum=0.1, affine=True, track_running_stats=True)\n",
       "      )\n",
       "    )\n",
       "    (1): BasicBlock(\n",
       "      (conv1): Conv2d(128, 128, kernel_size=(3, 3), stride=(1, 1), padding=(1, 1), bias=False)\n",
       "      (bn1): BatchNorm2d(128, eps=1e-05, momentum=0.1, affine=True, track_running_stats=True)\n",
       "      (relu): ReLU(inplace=True)\n",
       "      (conv2): Conv2d(128, 128, kernel_size=(3, 3), stride=(1, 1), padding=(1, 1), bias=False)\n",
       "      (bn2): BatchNorm2d(128, eps=1e-05, momentum=0.1, affine=True, track_running_stats=True)\n",
       "    )\n",
       "  )\n",
       "  (layer3): Sequential(\n",
       "    (0): BasicBlock(\n",
       "      (conv1): Conv2d(128, 256, kernel_size=(3, 3), stride=(2, 2), padding=(1, 1), bias=False)\n",
       "      (bn1): BatchNorm2d(256, eps=1e-05, momentum=0.1, affine=True, track_running_stats=True)\n",
       "      (relu): ReLU(inplace=True)\n",
       "      (conv2): Conv2d(256, 256, kernel_size=(3, 3), stride=(1, 1), padding=(1, 1), bias=False)\n",
       "      (bn2): BatchNorm2d(256, eps=1e-05, momentum=0.1, affine=True, track_running_stats=True)\n",
       "      (downsample): Sequential(\n",
       "        (0): Conv2d(128, 256, kernel_size=(1, 1), stride=(2, 2), bias=False)\n",
       "        (1): BatchNorm2d(256, eps=1e-05, momentum=0.1, affine=True, track_running_stats=True)\n",
       "      )\n",
       "    )\n",
       "    (1): BasicBlock(\n",
       "      (conv1): Conv2d(256, 256, kernel_size=(3, 3), stride=(1, 1), padding=(1, 1), bias=False)\n",
       "      (bn1): BatchNorm2d(256, eps=1e-05, momentum=0.1, affine=True, track_running_stats=True)\n",
       "      (relu): ReLU(inplace=True)\n",
       "      (conv2): Conv2d(256, 256, kernel_size=(3, 3), stride=(1, 1), padding=(1, 1), bias=False)\n",
       "      (bn2): BatchNorm2d(256, eps=1e-05, momentum=0.1, affine=True, track_running_stats=True)\n",
       "    )\n",
       "  )\n",
       "  (layer4): Sequential(\n",
       "    (0): BasicBlock(\n",
       "      (conv1): Conv2d(256, 512, kernel_size=(3, 3), stride=(2, 2), padding=(1, 1), bias=False)\n",
       "      (bn1): BatchNorm2d(512, eps=1e-05, momentum=0.1, affine=True, track_running_stats=True)\n",
       "      (relu): ReLU(inplace=True)\n",
       "      (conv2): Conv2d(512, 512, kernel_size=(3, 3), stride=(1, 1), padding=(1, 1), bias=False)\n",
       "      (bn2): BatchNorm2d(512, eps=1e-05, momentum=0.1, affine=True, track_running_stats=True)\n",
       "      (downsample): Sequential(\n",
       "        (0): Conv2d(256, 512, kernel_size=(1, 1), stride=(2, 2), bias=False)\n",
       "        (1): BatchNorm2d(512, eps=1e-05, momentum=0.1, affine=True, track_running_stats=True)\n",
       "      )\n",
       "    )\n",
       "    (1): BasicBlock(\n",
       "      (conv1): Conv2d(512, 512, kernel_size=(3, 3), stride=(1, 1), padding=(1, 1), bias=False)\n",
       "      (bn1): BatchNorm2d(512, eps=1e-05, momentum=0.1, affine=True, track_running_stats=True)\n",
       "      (relu): ReLU(inplace=True)\n",
       "      (conv2): Conv2d(512, 512, kernel_size=(3, 3), stride=(1, 1), padding=(1, 1), bias=False)\n",
       "      (bn2): BatchNorm2d(512, eps=1e-05, momentum=0.1, affine=True, track_running_stats=True)\n",
       "    )\n",
       "  )\n",
       "  (avgpool): AdaptiveAvgPool2d(output_size=(1, 1))\n",
       "  (fc): Linear(in_features=512, out_features=50, bias=True)\n",
       ")"
      ]
     },
     "execution_count": 31,
     "metadata": {},
     "output_type": "execute_result"
    }
   ],
   "source": [
    "model.load_state_dict(torch.load(\"esc50_resnet18.pth\"))\n",
    "model.eval()"
   ]
  },
  {
   "cell_type": "code",
   "execution_count": null,
   "metadata": {
    "trusted": true
   },
   "outputs": [],
   "source": []
  },
  {
   "cell_type": "code",
   "execution_count": null,
   "metadata": {
    "trusted": true
   },
   "outputs": [],
   "source": []
  },
  {
   "cell_type": "code",
   "execution_count": null,
   "metadata": {
    "trusted": true
   },
   "outputs": [],
   "source": []
  }
 ],
 "metadata": {
  "kaggle": {
   "accelerator": "nvidiaTeslaT4",
   "dataSources": [
    {
     "datasetId": 7832852,
     "sourceId": 12419157,
     "sourceType": "datasetVersion"
    }
   ],
   "dockerImageVersionId": 31090,
   "isGpuEnabled": true,
   "isInternetEnabled": true,
   "language": "python",
   "sourceType": "notebook"
  },
  "kernelspec": {
   "display_name": "Python 3",
   "language": "python",
   "name": "python3"
  },
  "language_info": {
   "codemirror_mode": {
    "name": "ipython",
    "version": 3
   },
   "file_extension": ".py",
   "mimetype": "text/x-python",
   "name": "python",
   "nbconvert_exporter": "python",
   "pygments_lexer": "ipython3",
   "version": "3.12.4"
  }
 },
 "nbformat": 4,
 "nbformat_minor": 4
}
